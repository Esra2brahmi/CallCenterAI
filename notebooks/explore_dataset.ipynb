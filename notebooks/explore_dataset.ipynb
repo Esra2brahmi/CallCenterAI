{
 "cells": [
  {
   "cell_type": "markdown",
   "id": "5af85d9a",
   "metadata": {},
   "source": [
    "# Step 1: Import Libraries"
   ]
  },
  {
   "cell_type": "code",
   "execution_count": 4,
   "id": "709e6bcc",
   "metadata": {},
   "outputs": [],
   "source": [
    "import sys\n",
    "import os\n",
    "\n",
    "# Add src folder to Python path\n",
    "sys.path.append(os.path.abspath(\"../src\"))\n",
    "\n",
    "import pandas as pd\n",
    "from utils.data_utils import load_data, save_sample\n"
   ]
  },
  {
   "cell_type": "markdown",
   "id": "09b309f9",
   "metadata": {},
   "source": [
    "# Step 2: Load Dataset"
   ]
  },
  {
   "cell_type": "code",
   "execution_count": 5,
   "id": "48d6120b",
   "metadata": {},
   "outputs": [],
   "source": [
    "data_path = \"../data/raw/all_tickets_processed_improved_v3.csv\"\n",
    "df = load_data(data_path)\n"
   ]
  },
  {
   "cell_type": "markdown",
   "id": "0af2d261",
   "metadata": {},
   "source": [
    "# Step 3: Explore Dataset"
   ]
  },
  {
   "cell_type": "code",
   "execution_count": 6,
   "id": "1c1dcf83",
   "metadata": {},
   "outputs": [
    {
     "name": "stdout",
     "output_type": "stream",
     "text": [
      "Shape: (47837, 2)\n",
      "Columns: Index(['Document', 'Topic_group'], dtype='object')\n",
      "                                            Document    Topic_group\n",
      "0  connection with icon icon dear please setup ic...       Hardware\n",
      "1  work experience user work experience user hi w...         Access\n",
      "2  requesting for meeting requesting meeting hi p...       Hardware\n",
      "3  reset passwords for external accounts re expir...         Access\n",
      "4  mail verification warning hi has got attached ...  Miscellaneous\n",
      "\n",
      "Category counts:\n",
      "Topic_group\n",
      "Hardware                 13617\n",
      "HR Support               10915\n",
      "Access                    7125\n",
      "Miscellaneous             7060\n",
      "Storage                   2777\n",
      "Purchase                  2464\n",
      "Internal Project          2119\n",
      "Administrative rights     1760\n",
      "Name: count, dtype: int64\n"
     ]
    }
   ],
   "source": [
    "print(\"Shape:\", df.shape)\n",
    "print(\"Columns:\", df.columns)\n",
    "print(df.head())\n",
    "print(\"\\nCategory counts:\")\n",
    "print(df['Topic_group'].value_counts())\n"
   ]
  },
  {
   "cell_type": "markdown",
   "id": "03a34529",
   "metadata": {},
   "source": [
    "# Step 4: Save Sample"
   ]
  },
  {
   "cell_type": "code",
   "execution_count": 7,
   "id": "0688d149",
   "metadata": {},
   "outputs": [
    {
     "name": "stdout",
     "output_type": "stream",
     "text": [
      "Sample saved to data/processed/sample.csv\n"
     ]
    }
   ],
   "source": [
    "save_sample(df, \"../data/processed/sample.csv\", n=500)\n",
    "print(\"Sample saved to data/processed/sample.csv\")\n"
   ]
  },
  {
   "cell_type": "markdown",
   "id": "381f8985",
   "metadata": {},
   "source": [
    "# 1. Import our model functions"
   ]
  },
  {
   "cell_type": "code",
   "execution_count": 5,
   "id": "8c3fa1aa",
   "metadata": {},
   "outputs": [],
   "source": [
    "import sys\n",
    "sys.path.append(\"..\")  # Adds project root to Python path\n",
    "\n",
    "from src.models.tfidf_svm import load_dataset, train_tfidf_svm, save_model"
   ]
  },
  {
   "cell_type": "markdown",
   "id": "bd35d965",
   "metadata": {},
   "source": [
    "# 2. Load dataset"
   ]
  },
  {
   "cell_type": "code",
   "execution_count": 9,
   "id": "0abf114b",
   "metadata": {},
   "outputs": [],
   "source": [
    "csv_path = \"/home/esra/CallCenterAI/data/raw/all_tickets_processed_improved_v3.csv\"\n",
    "df = load_dataset(csv_path)"
   ]
  },
  {
   "cell_type": "markdown",
   "id": "1e4261d8",
   "metadata": {},
   "source": [
    "# 3. Train TF-IDF + SVM"
   ]
  },
  {
   "cell_type": "code",
   "execution_count": 10,
   "id": "d6259942",
   "metadata": {},
   "outputs": [
    {
     "name": "stdout",
     "output_type": "stream",
     "text": [
      "Classification report:\n",
      "                        precision    recall  f1-score   support\n",
      "\n",
      "               Access       0.89      0.89      0.89      1425\n",
      "Administrative rights       0.85      0.70      0.77       352\n",
      "           HR Support       0.86      0.86      0.86      2183\n",
      "             Hardware       0.82      0.86      0.84      2724\n",
      "     Internal Project       0.88      0.85      0.86       424\n",
      "        Miscellaneous       0.83      0.82      0.83      1412\n",
      "             Purchase       0.96      0.89      0.92       493\n",
      "              Storage       0.92      0.88      0.90       555\n",
      "\n",
      "             accuracy                           0.86      9568\n",
      "            macro avg       0.88      0.85      0.86      9568\n",
      "         weighted avg       0.86      0.86      0.86      9568\n",
      "\n"
     ]
    }
   ],
   "source": [
    "tfidf, svm = train_tfidf_svm(df)"
   ]
  },
  {
   "cell_type": "markdown",
   "id": "cc9790fa",
   "metadata": {},
   "source": [
    "# 4. Save the trained models"
   ]
  },
  {
   "cell_type": "code",
   "execution_count": 8,
   "id": "06e39a21",
   "metadata": {},
   "outputs": [
    {
     "name": "stdout",
     "output_type": "stream",
     "text": [
      "Models saved in ../models/\n"
     ]
    }
   ],
   "source": [
    "save_model(tfidf, svm, output_dir=\"../models\")"
   ]
  }
 ],
 "metadata": {
  "kernelspec": {
   "display_name": "venv",
   "language": "python",
   "name": "python3"
  },
  "language_info": {
   "codemirror_mode": {
    "name": "ipython",
    "version": 3
   },
   "file_extension": ".py",
   "mimetype": "text/x-python",
   "name": "python",
   "nbconvert_exporter": "python",
   "pygments_lexer": "ipython3",
   "version": "3.11.13"
  }
 },
 "nbformat": 4,
 "nbformat_minor": 5
}
